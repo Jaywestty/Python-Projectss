{
 "cells": [
  {
   "attachments": {},
   "cell_type": "markdown",
   "metadata": {},
   "source": [
    "TIC TAC TOE GAME"
   ]
  },
  {
   "attachments": {},
   "cell_type": "markdown",
   "metadata": {},
   "source": [
    "A FUNCTION THAT DISPLAYS THE BOARD\n"
   ]
  },
  {
   "cell_type": "code",
   "execution_count": 1,
   "metadata": {},
   "outputs": [],
   "source": [
    "from IPython.display import clear_output\n",
    "\n",
    "def display_board(board):\n",
    "    \n",
    "    clear_output()\n",
    "    \n",
    "    print(board[7] + '|' + board[8] + '|' + board[9])\n",
    "    print('_ _ _')\n",
    "    print(board[4] + '|' + board[5] + '|' + board[6])\n",
    "    print('_ _ _')\n",
    "    print(board[1] + '|' + board[2] + '|' + board[3])\n",
    "    "
   ]
  },
  {
   "cell_type": "code",
   "execution_count": 2,
   "metadata": {},
   "outputs": [
    {
     "name": "stdout",
     "output_type": "stream",
     "text": [
      " | | \n",
      "_ _ _\n",
      " | | \n",
      "_ _ _\n",
      " | | \n"
     ]
    }
   ],
   "source": [
    "test_board = [' ']*10\n",
    "display_board(test_board)"
   ]
  },
  {
   "attachments": {},
   "cell_type": "markdown",
   "metadata": {},
   "source": [
    "A FUNCTION THAT CAN TAKE A PLAYER INPUT AND ASSIGN X AND O AS MARKERS"
   ]
  },
  {
   "cell_type": "code",
   "execution_count": 3,
   "metadata": {},
   "outputs": [],
   "source": [
    "def player_input():\n",
    "    \n",
    "    marker = ''\n",
    "    \n",
    "    while marker not in ['X','O']:\n",
    "        marker = input('Player 1 choose X or O: ').upper()\n",
    "        \n",
    "    if marker == 'X':\n",
    "        return ('X','O')\n",
    "    else:\n",
    "        return ('O','X')"
   ]
  },
  {
   "cell_type": "code",
   "execution_count": 6,
   "metadata": {},
   "outputs": [],
   "source": [
    "player1_marker,player2_marker = player_input()"
   ]
  },
  {
   "cell_type": "code",
   "execution_count": 8,
   "metadata": {},
   "outputs": [
    {
     "data": {
      "text/plain": [
       "'O'"
      ]
     },
     "execution_count": 8,
     "metadata": {},
     "output_type": "execute_result"
    }
   ],
   "source": [
    "player1_marker"
   ]
  },
  {
   "attachments": {},
   "cell_type": "markdown",
   "metadata": {},
   "source": [
    "A FUNCTION THAT TAKES IN A BOARD LIST, A MARKER AND A POSITION AND ASSIGNS TO THE BOARD"
   ]
  },
  {
   "cell_type": "code",
   "execution_count": 9,
   "metadata": {},
   "outputs": [],
   "source": [
    "def place_marker(board,marker,position):\n",
    "    \n",
    "    board[position] = marker"
   ]
  },
  {
   "cell_type": "code",
   "execution_count": 10,
   "metadata": {},
   "outputs": [
    {
     "name": "stdout",
     "output_type": "stream",
     "text": [
      " | | \n",
      "_ _ _\n",
      " |$| \n",
      "_ _ _\n",
      " | | \n"
     ]
    }
   ],
   "source": [
    "place_marker(test_board,'$',5)\n",
    "display_board(test_board)"
   ]
  },
  {
   "attachments": {},
   "cell_type": "markdown",
   "metadata": {},
   "source": [
    "A FUNCTION THAT CHECKS FOR WIN"
   ]
  },
  {
   "cell_type": "code",
   "execution_count": 11,
   "metadata": {},
   "outputs": [],
   "source": [
    "def win_check(board,mark):\n",
    "    \n",
    "    return( (board[7] == board[8] == board[9] == mark) or \n",
    "            (board[4] == board[5] == board[6] == mark) or\n",
    "            (board[1] == board[2] == board[3] == mark) or \n",
    "            (board[7] == board[4] == board[1] == mark) or \n",
    "            (board[8] == board[5] == board[2] == mark) or \n",
    "            (board[9] == board[6] == board[3] == mark) or \n",
    "            (board[7] == board[5] == board[3] == mark) or \n",
    "            (board[9] == board[5] == board[1] == mark)\n",
    "        \n",
    "    )"
   ]
  },
  {
   "cell_type": "code",
   "execution_count": 12,
   "metadata": {},
   "outputs": [
    {
     "data": {
      "text/plain": [
       "False"
      ]
     },
     "execution_count": 12,
     "metadata": {},
     "output_type": "execute_result"
    }
   ],
   "source": [
    "win_check(test_board,'X')"
   ]
  },
  {
   "attachments": {},
   "cell_type": "markdown",
   "metadata": {},
   "source": [
    "A FUNCTION THAT TAKES RANDOM MODULE TO DECIDE WHO GOES FIRST"
   ]
  },
  {
   "cell_type": "code",
   "execution_count": 13,
   "metadata": {},
   "outputs": [],
   "source": [
    "import random \n",
    "\n",
    "def choose_first():\n",
    "    \n",
    "    flip = random.randint(0,1)\n",
    "    \n",
    "    if flip == 0:\n",
    "        return 'Player 1'\n",
    "    else:\n",
    "        return 'Player 2'\n",
    "    \n",
    "    "
   ]
  },
  {
   "attachments": {},
   "cell_type": "markdown",
   "metadata": {},
   "source": [
    "A FUNCTION TO CHECK FOR SPACE ON THE BOARD"
   ]
  },
  {
   "cell_type": "code",
   "execution_count": 14,
   "metadata": {},
   "outputs": [],
   "source": [
    "def space_check(board,position):\n",
    "    \n",
    "    return board[position] == ' '"
   ]
  },
  {
   "attachments": {},
   "cell_type": "markdown",
   "metadata": {},
   "source": [
    "A FUNCTION TO CHECK IF THE BOARD IS FULL"
   ]
  },
  {
   "cell_type": "code",
   "execution_count": 16,
   "metadata": {},
   "outputs": [],
   "source": [
    "def full_check_board(board):\n",
    "    \n",
    "    for i in range(1,10):\n",
    "        if space_check(board, i):\n",
    "            return False\n",
    "    return True"
   ]
  },
  {
   "attachments": {},
   "cell_type": "markdown",
   "metadata": {},
   "source": [
    "A FUNCTION THAT ASKS PLAYER FOR NEXT POSITION"
   ]
  },
  {
   "cell_type": "code",
   "execution_count": 17,
   "metadata": {},
   "outputs": [],
   "source": [
    "def player_choose(board):\n",
    "    \n",
    "    position = 0\n",
    "    \n",
    "    while position not in [1,2,3,4,5,6,7,8,9] or not space_check(board,position):\n",
    "        position = int(input('Pick a position (0-9): '))\n",
    "        \n",
    "    return position"
   ]
  },
  {
   "attachments": {},
   "cell_type": "markdown",
   "metadata": {},
   "source": [
    "A FUNCTION FOR REPLAY"
   ]
  },
  {
   "cell_type": "code",
   "execution_count": 33,
   "metadata": {},
   "outputs": [],
   "source": [
    "def replay():\n",
    "    \n",
    "    choice = ''\n",
    "    try:\n",
    "        while choice not in ['Yes','No']:\n",
    "            choice = input('Do you want to continue playing Yes or No: ').capitalize()\n",
    "                \n",
    "        if choice == 'Yes':\n",
    "            return True\n",
    "        else:\n",
    "            return False\n",
    "    except:\n",
    "        print('An Error occured!!!')\n",
    "    "
   ]
  },
  {
   "attachments": {},
   "cell_type": "markdown",
   "metadata": {},
   "source": [
    "LOGIC TO PLAY GAME"
   ]
  },
  {
   "cell_type": "code",
   "execution_count": 34,
   "metadata": {},
   "outputs": [
    {
     "name": "stdout",
     "output_type": "stream",
     "text": [
      "X|O|O\n",
      "_ _ _\n",
      "O|X|X\n",
      "_ _ _\n",
      "X|O|X\n",
      "Player 1 has won !!!\n"
     ]
    }
   ],
   "source": [
    "print('Welcome To Tic Tac Toe!!!')\n",
    "\n",
    "while True:\n",
    "    \n",
    "    #set everything up(board, whos first, marker)\n",
    "    \n",
    "    the_board = [' ']*10\n",
    "    \n",
    "    player1_marker,player2_marker = player_input()\n",
    "    \n",
    "    turn = choose_first()\n",
    "    print(turn + ' will go first!')\n",
    "    \n",
    "    play_game = ''\n",
    "    while play_game not in ['y','n']:\n",
    "        play_game = input('Ready to play game y or n: ')\n",
    "        if play_game == 'y':\n",
    "            game_on = True\n",
    "        else:\n",
    "            game_on = False\n",
    "        \n",
    "        \n",
    "    #gameplay\n",
    "        \n",
    "    while game_on == True:\n",
    "        \n",
    "        if turn == 'Player 1':\n",
    "            \n",
    "            #show the board\n",
    "            display_board(the_board)\n",
    "            \n",
    "            #pick a position\n",
    "            position = player_choose(the_board)\n",
    "            \n",
    "            #place a marker \n",
    "            \n",
    "            place_marker(the_board,player1_marker,position)\n",
    "            \n",
    "            #to check win \n",
    "            \n",
    "            if win_check(the_board,player1_marker):\n",
    "                display_board(the_board)\n",
    "                print('Player 1 has won !!!')\n",
    "                game_on = False\n",
    "            else:\n",
    "                if full_check_board(the_board):\n",
    "                    display_board(the_board)\n",
    "                    print('TIE GAME!!!')\n",
    "                    game_on = False\n",
    "                else:\n",
    "                    turn = 'Player 2'\n",
    "        \n",
    "        else:\n",
    "             #show the board\n",
    "            display_board(the_board)\n",
    "            \n",
    "            #pick a position\n",
    "            position = player_choose(the_board)\n",
    "            \n",
    "            #place a marker \n",
    "            \n",
    "            place_marker(the_board,player2_marker,position)\n",
    "            \n",
    "            #to check win \n",
    "            \n",
    "            if win_check(the_board,player2_marker):\n",
    "                display_board(the_board)\n",
    "                print('Player 2 has won !!!')\n",
    "                game_on = False\n",
    "            else:\n",
    "                if full_check_board(the_board):\n",
    "                    display_board(the_board)\n",
    "                    print('TIE GAME!!!')\n",
    "                    game_on = False\n",
    "                else:\n",
    "                    turn = 'Player 1'\n",
    "                \n",
    "                \n",
    "    \n",
    "\n",
    "    \n",
    "    if not replay():\n",
    "        break"
   ]
  }
 ],
 "metadata": {
  "kernelspec": {
   "display_name": "base",
   "language": "python",
   "name": "python3"
  },
  "language_info": {
   "codemirror_mode": {
    "name": "ipython",
    "version": 3
   },
   "file_extension": ".py",
   "mimetype": "text/x-python",
   "name": "python",
   "nbconvert_exporter": "python",
   "pygments_lexer": "ipython3",
   "version": "3.10.9"
  },
  "orig_nbformat": 4
 },
 "nbformat": 4,
 "nbformat_minor": 2
}
