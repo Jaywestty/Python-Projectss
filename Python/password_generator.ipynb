{
 "cells": [
  {
   "attachments": {},
   "cell_type": "markdown",
   "metadata": {},
   "source": [
    "PASSWORD GENERATOR"
   ]
  },
  {
   "cell_type": "code",
   "execution_count": 3,
   "metadata": {},
   "outputs": [
    {
     "name": "stdout",
     "output_type": "stream",
     "text": [
      "Hi There, Welcome To The Password Dashboard!\n",
      "bolabillions's password is dcGTJ\n",
      "Weak Password!!!\n"
     ]
    }
   ],
   "source": [
    "#PASSWORD GENERATOR\n",
    "\n",
    "\n",
    "import string\n",
    "import random\n",
    "\n",
    "#welcome User First\n",
    "\n",
    "print('Hi There, Welcome To The Password Dashboard!')\n",
    "\n",
    "#taking user name\n",
    "\n",
    "user_name = input('Enter username: ')\n",
    "\n",
    "#Asking for user input to determine password length\n",
    "\n",
    "password_len = int(input('Enter the length of password: '))\n",
    "\n",
    "#Defining Strings First\n",
    "\n",
    "upper_case_letters = string.ascii_uppercase\n",
    "lower_case_letters = string.ascii_lowercase\n",
    "decimal = string.digits\n",
    "\n",
    "password_gen = upper_case_letters + lower_case_letters + decimal\n",
    "    \n",
    "password_all = random.sample(password_gen,password_len)\n",
    "    \n",
    "password = ''.join(password_all)    \n",
    "\n",
    "print(f\"{user_name}'s password is {password}\")\n",
    "\n",
    "if len(password) >= 8:\n",
    "    print('Strong Password!!!')\n",
    "else:\n",
    "    print('Weak Password!!!')\n",
    "    "
   ]
  }
 ],
 "metadata": {
  "kernelspec": {
   "display_name": "base",
   "language": "python",
   "name": "python3"
  },
  "language_info": {
   "codemirror_mode": {
    "name": "ipython",
    "version": 3
   },
   "file_extension": ".py",
   "mimetype": "text/x-python",
   "name": "python",
   "nbconvert_exporter": "python",
   "pygments_lexer": "ipython3",
   "version": "3.10.9"
  },
  "orig_nbformat": 4
 },
 "nbformat": 4,
 "nbformat_minor": 2
}
