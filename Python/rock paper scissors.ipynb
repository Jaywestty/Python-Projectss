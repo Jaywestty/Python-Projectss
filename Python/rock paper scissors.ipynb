{
 "cells": [
  {
   "attachments": {},
   "cell_type": "markdown",
   "metadata": {},
   "source": [
    "ROCK PAPER SCISSORS!!!"
   ]
  },
  {
   "cell_type": "code",
   "execution_count": 1,
   "metadata": {},
   "outputs": [],
   "source": [
    "def player_input():\n",
    "    \n",
    "    user_input = ''\n",
    "    \n",
    "    while user_input not in ['Rock','Paper','Scissors']:\n",
    "        user_input = input('Player Choose Rock, Paper, Scissors: ').capitalize()\n",
    "        \n",
    "    return user_input"
   ]
  },
  {
   "cell_type": "code",
   "execution_count": 2,
   "metadata": {},
   "outputs": [
    {
     "data": {
      "text/plain": [
       "'Rock'"
      ]
     },
     "execution_count": 2,
     "metadata": {},
     "output_type": "execute_result"
    }
   ],
   "source": [
    "player_input()"
   ]
  },
  {
   "cell_type": "code",
   "execution_count": 3,
   "metadata": {},
   "outputs": [],
   "source": [
    "import random\n",
    "\n",
    "def computer_choice():\n",
    "    possible_actions = ['Rock','Paper','Scissors']\n",
    "    \n",
    "    return random.choice(possible_actions)"
   ]
  },
  {
   "cell_type": "code",
   "execution_count": 9,
   "metadata": {},
   "outputs": [
    {
     "data": {
      "text/plain": [
       "'Rock'"
      ]
     },
     "execution_count": 9,
     "metadata": {},
     "output_type": "execute_result"
    }
   ],
   "source": [
    "computer_choice()"
   ]
  },
  {
   "cell_type": "code",
   "execution_count": 17,
   "metadata": {},
   "outputs": [],
   "source": [
    "def replay():\n",
    "    replay = ''\n",
    "    \n",
    "    while replay not in ['y','n']:\n",
    "        replay = input('Do you want to keep playing? y or n')\n",
    "        \n",
    "    if replay == 'n':\n",
    "        return True\n",
    "    else:\n",
    "        return False"
   ]
  },
  {
   "cell_type": "code",
   "execution_count": 14,
   "metadata": {},
   "outputs": [
    {
     "data": {
      "text/plain": [
       "False"
      ]
     },
     "execution_count": 14,
     "metadata": {},
     "output_type": "execute_result"
    }
   ],
   "source": [
    "replay()"
   ]
  },
  {
   "cell_type": "code",
   "execution_count": 19,
   "metadata": {},
   "outputs": [
    {
     "name": "stdout",
     "output_type": "stream",
     "text": [
      "WELCOME TO ROCK PAPER AND SCISSORS!!!\n",
      "computer chose Paper\n",
      "You Lose!!! Paper covers Rock\n",
      "computer chose Scissors\n",
      "You Lose!!! Scissors cut Paper\n",
      "computer chose Rock\n",
      "Tie Game!!!\n"
     ]
    }
   ],
   "source": [
    "print('WELCOME TO ROCK PAPER AND SCISSORS!!!')\n",
    "\n",
    "while True:\n",
    "    my_choice = ['Rock','Paper','Scissors']\n",
    "    user_play = player_input()\n",
    "    computer_play = computer_choice()\n",
    "    \n",
    "    if computer_play in my_choice:\n",
    "        print(f'computer chose {computer_play}')\n",
    "    else:\n",
    "        pass\n",
    "    \n",
    "    if user_play == computer_play:\n",
    "        print('Tie Game!!!')\n",
    "    \n",
    "    elif user_play == 'Rock':\n",
    "        if computer_play == 'Paper':\n",
    "            print('You Lose!!! Paper covers Rock')\n",
    "        else:\n",
    "            print('You Win!!! Rock smashes Scissors')\n",
    "    \n",
    "    elif user_play == 'Paper':\n",
    "        if computer_play == 'Scissors':\n",
    "            print('You Lose!!! Scissors cut Paper')\n",
    "        else:\n",
    "            print('You Win!!! Paper covers Rock')\n",
    "    elif user_play == 'Scissors':\n",
    "        if computer_play == 'Rock':\n",
    "            print('You Lost!!! Rock smashes Scissors')\n",
    "        else:\n",
    "            print('You Win!!! Scissors cut Paper')\n",
    "    \n",
    "    if replay():\n",
    "        break\n",
    "    "
   ]
  },
  {
   "cell_type": "code",
   "execution_count": null,
   "metadata": {},
   "outputs": [],
   "source": []
  }
 ],
 "metadata": {
  "kernelspec": {
   "display_name": "base",
   "language": "python",
   "name": "python3"
  },
  "language_info": {
   "codemirror_mode": {
    "name": "ipython",
    "version": 3
   },
   "file_extension": ".py",
   "mimetype": "text/x-python",
   "name": "python",
   "nbconvert_exporter": "python",
   "pygments_lexer": "ipython3",
   "version": "3.10.9"
  },
  "orig_nbformat": 4
 },
 "nbformat": 4,
 "nbformat_minor": 2
}
